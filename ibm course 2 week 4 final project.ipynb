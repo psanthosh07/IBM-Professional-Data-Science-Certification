{
 "cells": [
  {
   "cell_type": "markdown",
   "metadata": {},
   "source": [
    "# WORKING ON JUPYTER NOTEBOOK\n"
   ]
  },
  {
   "cell_type": "markdown",
   "metadata": {},
   "source": [
    "Hello everyone this is my assignment for the data science tools course week 4 at this assignment we will be working on  Jupyter Notebook and here i am going to try various jupyter notebook and how to display infos with table and execute python codes"
   ]
  },
  {
   "cell_type": "markdown",
   "metadata": {},
   "source": [
    "## DATA SCIENCE LANGUAGES\n",
    "- Python\n",
    "- R\n",
    "- SQL\n",
    "- Java\n",
    "- Julia"
   ]
  },
  {
   "cell_type": "markdown",
   "metadata": {},
   "source": [
    "## DATA SCIENCE LIBRARIES\n",
    "- Pandas\n",
    "- Numpy\n",
    "- Matplotlib\n",
    "- scikit-learn\n",
    "- Plotly"
   ]
  },
  {
   "cell_type": "markdown",
   "metadata": {},
   "source": [
    "## DATA SCIENCE TOOLS\n",
    "\n",
    "| Tool          | Description                                                   |\n",
    "|---------------|---------------------------------------------------------------|\n",
    "| **NumPy**     | Fundamental package for scientific computing with Python.     |\n",
    "| **Pandas**    | Data manipulation and analysis library.                       |\n",
    "| **Matplotlib**| Comprehensive plotting library for creating static, interactive, and animated visualizations. |\n",
    "| **Seaborn**   | Statistical data visualization based on Matplotlib.           |\n",
    "| **Scikit-learn** | Simple and efficient tools for data mining and data analysis. |\n",
    "\n"
   ]
  },
  {
   "cell_type": "markdown",
   "metadata": {},
   "source": [
    "### Arithmetic Expression Examples\n",
    "\n",
    "\n",
    "1. **Addition**: Adding two or more numbers together.\n",
    "   - Example: \\( 3 + 5 = 8 \\)\n",
    "\n",
    "2. **Subtraction**: Finding the difference between two numbers.\n",
    "   - Example: \\( 10 - 4 = 6 \\)\n",
    "\n",
    "3. **Multiplication**: Multiplying two numbers.\n",
    "   - Example: \\( 2 * 6 = 12 \\)\n",
    "\n",
    "4. **Division**: Dividing the numerator by denominator.\n",
    "   - Example: \\( 20 \\ 4 = 5 \\)\n",
    "\n",
    "\n"
   ]
  },
  {
   "cell_type": "code",
   "execution_count": 4,
   "metadata": {},
   "outputs": [
    {
     "name": "stdout",
     "output_type": "stream",
     "text": [
      "Enter the first number : 12\n",
      "Enter the second number :5\n",
      "The added value is 17 \n",
      "The multiplicated value is 60\n"
     ]
    }
   ],
   "source": [
    "#program to multiply and add numbers\n",
    "n1=int(input(\"Enter the first number : \"))\n",
    "n2=int(input(\"Enter the second number :\"))\n",
    "print(f\"The added value is {n1+n2} \\nThe multiplicated value is {n1*n2}\")"
   ]
  },
  {
   "cell_type": "code",
   "execution_count": 5,
   "metadata": {},
   "outputs": [
    {
     "name": "stdout",
     "output_type": "stream",
     "text": [
      "Enter the number of minutes : 75\n",
      "75 minutes is converted to 1.25 hours\n"
     ]
    }
   ],
   "source": [
    "#Program to convert minutes to hours\n",
    "mins=int(input(\"Enter the number of minutes : \"))\n",
    "hours=mins/60\n",
    "print(f\"{mins} minutes is converted to {hours} hours\")"
   ]
  },
  {
   "cell_type": "markdown",
   "metadata": {},
   "source": [
    "## Objectives\n",
    "\n",
    "1. **Markdown Usage**: Learn how to effectively use Markdown cells for text formatting, including creating headings, lists, emphasis (bold and italic), links, and inserting images.\n",
    "\n",
    "2. **Code Execution**: Understand how to execute code in Jupyter Notebook using code cells, including Python code and other supported languages.\n",
    "\n"
   ]
  },
  {
   "cell_type": "markdown",
   "metadata": {},
   "source": [
    "## Author\n",
    "\n",
    "\n",
    "**Santhosh**\n"
   ]
  },
  {
   "cell_type": "code",
   "execution_count": null,
   "metadata": {},
   "outputs": [],
   "source": []
  }
 ],
 "metadata": {
  "kernelspec": {
   "display_name": "Python 3",
   "language": "python",
   "name": "python3"
  },
  "language_info": {
   "codemirror_mode": {
    "name": "ipython",
    "version": 3
   },
   "file_extension": ".py",
   "mimetype": "text/x-python",
   "name": "python",
   "nbconvert_exporter": "python",
   "pygments_lexer": "ipython3",
   "version": "3.7.4"
  }
 },
 "nbformat": 4,
 "nbformat_minor": 2
}
